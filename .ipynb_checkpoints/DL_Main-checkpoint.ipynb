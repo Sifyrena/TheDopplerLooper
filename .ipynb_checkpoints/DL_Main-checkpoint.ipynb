{
 "cells": [
  {
   "cell_type": "markdown",
   "metadata": {},
   "source": [
    "# Doppler Looper\n",
    "\n",
    "A Toy Astrophysics Outreach Program, with Advanced Graphics for a scientific script.\n",
    "\n",
    "(c) Yourong Frank Wang (yourong.f.wang@auckland.ac.nz) for 2020 McGill Hackathon.\n",
    "\n",
    "Project page: FWPhys.com/DopplerLooper"
   ]
  },
  {
   "cell_type": "code",
   "execution_count": 1,
   "metadata": {},
   "outputs": [],
   "source": [
    "import OpenGL\n",
    "\n",
    "import matplotlib as mpl\n",
    "import matplotlib.pyplot as plt\n",
    "\n",
    "import numpy as np\n",
    "\n",
    "import math"
   ]
  },
  {
   "cell_type": "markdown",
   "metadata": {},
   "source": [
    "## Defining Fundamental Constants\n",
    "\n",
    "Two parts of the program talk to each other through a set of pre-defined physical quantities. The values are given in SI Units"
   ]
  },
  {
   "cell_type": "code",
   "execution_count": null,
   "metadata": {},
   "outputs": [],
   "source": [
    "## Astrophysics\n",
    "\n",
    "MSol    = 1.9# kg\n",
    "MEarth  = # kg\n",
    "AU      = # m\n",
    "Parsec  = # m\n",
    "G       = # m\n",
    "\n",
    "## Spectroscopy\n",
    "c0      =\n",
    "hbar    ="
   ]
  }
 ],
 "metadata": {
  "kernelspec": {
   "display_name": "Python 3",
   "language": "python",
   "name": "python3"
  },
  "language_info": {
   "codemirror_mode": {
    "name": "ipython",
    "version": 3
   },
   "file_extension": ".py",
   "mimetype": "text/x-python",
   "name": "python",
   "nbconvert_exporter": "python",
   "pygments_lexer": "ipython3",
   "version": "3.8.3"
  }
 },
 "nbformat": 4,
 "nbformat_minor": 4
}
